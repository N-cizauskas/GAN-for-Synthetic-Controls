{
 "cells": [
  {
   "cell_type": "code",
   "execution_count": 1,
   "id": "8b826e45-cabd-40b4-b101-f58dc35da330",
   "metadata": {},
   "outputs": [],
   "source": [
    "# packages\n",
    "import numpy as np\n",
    "import pandas as pd\n",
    "import matplotlib.pyplot as plt\n",
    "import torch\n",
    "from torch import nn\n",
    "import math\n",
    "import matplotlib.pyplot as plt\n",
    "import numpy as np\n",
    "import tensorflow as tf"
   ]
  },
  {
   "cell_type": "code",
   "execution_count": 2,
   "id": "bfd178c1-8256-495f-bdc9-8ed38a751972",
   "metadata": {},
   "outputs": [],
   "source": [
    "# import data\n",
    "polyps = pd.read_csv('polyps.csv')\n",
    "\n"
   ]
  },
  {
   "cell_type": "code",
   "execution_count": 3,
   "id": "77812c15-e5d6-4ccc-8d55-6cc76def5cd3",
   "metadata": {},
   "outputs": [
    {
     "data": {
      "text/plain": [
       "<torch._C.Generator at 0x1db975bad50>"
      ]
     },
     "execution_count": 3,
     "metadata": {},
     "output_type": "execute_result"
    }
   ],
   "source": [
    "# set rng seed\n",
    "torch.manual_seed(111)"
   ]
  },
  {
   "cell_type": "code",
   "execution_count": 4,
   "id": "0b2dc253-2dff-4e05-89a1-428069e385c1",
   "metadata": {},
   "outputs": [
    {
     "name": "stdout",
     "output_type": "stream",
     "text": [
      "tensor([[ 1.0000e+21, -1.4286e-01],\n",
      "        [ 1.0000e+21, -1.2987e-01],\n",
      "        [ 1.0001e+20, -4.2857e-01],\n",
      "        [ 1.0000e+21,  0.0000e+00],\n",
      "        [ 1.0000e+20, -3.0435e-01],\n",
      "        [ 1.0001e+21, -1.1429e-01],\n",
      "        [ 1.0000e+21, -4.5455e-01],\n",
      "        [ 1.0000e+20,  6.6667e-01],\n",
      "        [ 1.0000e+20,  0.0000e+00],\n",
      "        [ 1.0001e+20,  9.1195e-02],\n",
      "        [ 1.0001e+20, -1.1250e-01],\n",
      "        [ 1.0000e+21, -8.7500e-01],\n",
      "        [ 1.0000e+20, -2.0000e-01],\n",
      "        [ 1.0000e+20,  8.1818e-01],\n",
      "        [ 1.0000e+20,  8.3333e-02],\n",
      "        [ 1.0000e+20, -2.0588e-01],\n",
      "        [ 1.0000e+21, -1.6667e-01],\n",
      "        [ 1.0010e+20, -3.7500e-01],\n",
      "        [ 1.0000e+20,  0.0000e+00],\n",
      "        [ 1.0000e+21, -4.0000e-01],\n",
      "        [ 1.0000e+21, -7.5000e-01],\n",
      "        [ 1.0000e+20, -3.3333e-01]])\n",
      "torch.Size([22, 2])\n"
     ]
    }
   ],
   "source": [
    "# prepping training data\n",
    "# pairs (x₁, x₂) so that x₂ consists of the value of the sine of x₁ for x₁ in the interval from 0 to 2π\n",
    "# need a tensor of labels\n",
    "\n",
    "# train data should be demographic info for x1 and percentage difference for x2\n",
    "# labels is the treatment (test/control)\n",
    "\n",
    "demo = polyps['demo']\n",
    "rel =  polyps['rel_3']\n",
    "train_data = [(demo[i], rel[i]) for i in range(len(demo))]\n",
    "\n",
    "\n",
    "labels = polyps['treatment']\n",
    "\n",
    "labels = tf.constant(labels, dtype=tf.float32)\n",
    "demo = tf.constant(demo, dtype=tf.float32)\n",
    "rel = tf.constant(rel, dtype=tf.float32)\n",
    "\n",
    "\n",
    "# need to convert to torch tensors\n",
    "train_data = pd.DataFrame(train_data)\n",
    "train_data = train_data.astype(float)\n",
    "train_data = tf.constant(train_data, dtype=tf.float32)\n",
    "\n",
    "\n",
    "labels = torch.as_tensor(labels.numpy())\n",
    "train_data = torch.as_tensor(train_data.numpy())\n",
    "\n",
    "print(train_data)\n",
    "print(train_data.shape)"
   ]
  },
  {
   "cell_type": "code",
   "execution_count": 5,
   "id": "bcf6fbaf-dfc8-4190-b9a3-55ec72b4daa1",
   "metadata": {},
   "outputs": [
    {
     "data": {
      "text/plain": [
       "[<matplotlib.lines.Line2D at 0x1dbc7182810>]"
      ]
     },
     "execution_count": 5,
     "metadata": {},
     "output_type": "execute_result"
    },
    {
     "data": {
      "image/png": "[encoded data removed]",
      "text/plain": [
       "<Figure size 640x480 with 1 Axes>"
      ]
     },
     "metadata": {},
     "output_type": "display_data"
    }
   ],
   "source": [
    "plt.plot(train_data[:, 0], train_data[:, 1], \".\")"
   ]
  },
  {
   "cell_type": "code",
   "execution_count": 6,
   "id": "4d04fabe-535f-49b1-9177-1521785bd73a",
   "metadata": {},
   "outputs": [
    {
     "name": "stdout",
     "output_type": "stream",
     "text": [
      "[(tensor([ 1.0000e+21, -1.4286e-01]), tensor(1.)), (tensor([ 1.0000e+21, -1.2987e-01]), tensor(0.)), (tensor([ 1.0001e+20, -4.2857e-01]), tensor(1.)), (tensor([1.0000e+21, 0.0000e+00]), tensor(0.)), (tensor([ 1.0000e+20, -3.0435e-01]), tensor(1.)), (tensor([ 1.0001e+21, -1.1429e-01]), tensor(0.)), (tensor([ 1.0000e+21, -4.5455e-01]), tensor(1.)), (tensor([1.0000e+20, 6.6667e-01]), tensor(0.)), (tensor([1.0000e+20, 0.0000e+00]), tensor(0.)), (tensor([1.0001e+20, 9.1195e-02]), tensor(0.)), (tensor([ 1.0001e+20, -1.1250e-01]), tensor(1.)), (tensor([ 1.0000e+21, -8.7500e-01]), tensor(1.)), (tensor([ 1.0000e+20, -2.0000e-01]), tensor(0.)), (tensor([1.0000e+20, 8.1818e-01]), tensor(0.)), (tensor([1.0000e+20, 8.3333e-02]), tensor(0.)), (tensor([ 1.0000e+20, -2.0588e-01]), tensor(1.)), (tensor([ 1.0000e+21, -1.6667e-01]), tensor(0.)), (tensor([ 1.0010e+20, -3.7500e-01]), tensor(1.)), (tensor([1.0000e+20, 0.0000e+00]), tensor(0.)), (tensor([ 1.0000e+21, -4.0000e-01]), tensor(1.)), (tensor([ 1.0000e+21, -7.5000e-01]), tensor(1.)), (tensor([ 1.0000e+20, -3.3333e-01]), tensor(1.))]\n"
     ]
    }
   ],
   "source": [
    "\n",
    "train_set = [\n",
    "    (train_data[i], labels[i]) for i in range(len(train_data))\n",
    "]\n",
    "\n",
    "print(train_set)\n"
   ]
  },
  {
   "cell_type": "code",
   "execution_count": 7,
   "id": "84c0a8d5-ccae-441d-b3ac-55dd16fe4ff4",
   "metadata": {},
   "outputs": [],
   "source": [
    "# definting collate function, part of the train_loader command. This ends up not being used in this example, may be needed in a different case\n",
    "def collate_fn(data):\n",
    "    \"\"\"\n",
    "    data: is a list of tuples with (example, label, length)\n",
    "          where 'example' is a tensor of arbitrary shape\n",
    "          and label/length are scalars\n",
    "    \"\"\"\n",
    "    \n",
    "    examples, labels, lengths = zip(*data)\n",
    "    max_len = max(lengths)\n",
    "    n_ftrs = examples[0].size(1)\n",
    "    features = torch.zeros((len(data), max_len, n_ftrs))\n",
    "    labels = torch.tensor(labels)\n",
    "    lengths = torch.tensor(lengths)\n",
    "\n",
    "    for i in range(len(data)):\n",
    "        j, k = examples[i].size(0), examples[i].size(1)\n",
    "        features[i] = torch.cat([examples[i], torch.zeros((max_len - j, k))])\n",
    "\n",
    "    return features.float(), labels.long(), lengths.long()\n",
    "\n",
    "\n",
    "# create data loader\n",
    "# shuffles data from train set and returns batches of 2 samples to train\n",
    "# batch size dependent on sample size\n",
    "\n",
    "batch_size = 2\n",
    "\n",
    "train_loader = torch.utils.data.DataLoader(\n",
    "    train_set, batch_size=batch_size, collate_fn = None, shuffle=True\n",
    ")\n",
    "\n",
    "\n"
   ]
  },
  {
   "cell_type": "code",
   "execution_count": 8,
   "id": "1b72123a-ddf7-43f9-a0c0-3edcaecd8361",
   "metadata": {},
   "outputs": [],
   "source": [
    "# creates discriminator\n",
    "# needs 2D input and gives 1D output\n",
    "# recieve sample from real data, provide probability that sample belongs to real training data\n",
    "\n",
    "class Discriminator(nn.Module):\n",
    "    def __init__(self):\n",
    "        super().__init__()\n",
    "        self.model = nn.Sequential(\n",
    "            nn.Linear(2, 256),\n",
    "            nn.ReLU(),\n",
    "            nn.Dropout(0.3),\n",
    "            nn.Linear(256, 128),\n",
    "            nn.ReLU(),\n",
    "            nn.Dropout(0.3),\n",
    "            nn.Linear(128, 64),\n",
    "            nn.ReLU(),\n",
    "            nn.Dropout(0.3),\n",
    "            nn.Linear(64, 1),\n",
    "            nn.Sigmoid(),\n",
    "        )\n",
    "\n",
    "    def forward(self, x):\n",
    "        output = self.model(x)\n",
    "        return output"
   ]
  },
  {
   "cell_type": "code",
   "execution_count": 9,
   "id": "091c37ad-9ce7-4e8b-87c4-82cf406a2968",
   "metadata": {},
   "outputs": [],
   "source": [
    "discriminator = Discriminator()"
   ]
  },
  {
   "cell_type": "code",
   "execution_count": 10,
   "id": "518fee29-f4d8-4f1d-a895-0dc92141834a",
   "metadata": {},
   "outputs": [],
   "source": [
    "# implement generator\n",
    "# takes samples from latent space as input, gen data resembling data in training set as output\n",
    "# 2D input, 2D output\n",
    "\n",
    "class Generator(nn.Module):\n",
    "    def __init__(self):\n",
    "        super().__init__()\n",
    "        self.model = nn.Sequential(\n",
    "            nn.Linear(2, 16),\n",
    "            nn.ReLU(),\n",
    "            nn.Linear(16, 32),\n",
    "            nn.ReLU(),\n",
    "            nn.Linear(32, 2),\n",
    "        )\n",
    "\n",
    "    def forward(self, x):\n",
    "        output = self.model(x)\n",
    "        return output\n",
    "\n",
    "generator = Generator()"
   ]
  },
  {
   "cell_type": "code",
   "execution_count": 11,
   "id": "a675686b-7638-42a7-a4d5-f7ac4d71cbd8",
   "metadata": {},
   "outputs": [],
   "source": [
    "# training parameters\n",
    "\n",
    "lr = 0.001\n",
    "# learning rate\n",
    "num_epochs = 30\n",
    "# number of repetitions\n",
    "loss_function = nn.BCELoss()\n",
    "# loss function"
   ]
  },
  {
   "cell_type": "code",
   "execution_count": 12,
   "id": "5781b019-fbef-46a8-9571-7ccb9d91a561",
   "metadata": {},
   "outputs": [],
   "source": [
    "# weight update rules, using ADAM\n",
    "\n",
    "optimizer_discriminator = torch.optim.Adam(discriminator.parameters(), lr=lr)\n",
    "optimizer_generator = torch.optim.Adam(generator.parameters(), lr=lr)"
   ]
  },
  {
   "cell_type": "code",
   "execution_count": 13,
   "id": "ac63ac92-a76c-4eb6-9606-82a98593a693",
   "metadata": {},
   "outputs": [
    {
     "name": "stdout",
     "output_type": "stream",
     "text": [
      "Epoch: 0 Loss D.: 25.341154098510742\n",
      "Epoch: 0 Loss G.: 0.7067089080810547\n",
      "Epoch: 10 Loss D.: 50.00004577636719\n",
      "Epoch: 10 Loss G.: 8.69852352142334\n",
      "Epoch: 20 Loss D.: 50.00001907348633\n",
      "Epoch: 20 Loss G.: 11.326689720153809\n"
     ]
    }
   ],
   "source": [
    "\n",
    "# training loop\n",
    "\n",
    "for epoch in range(num_epochs):\n",
    "    for n, (real_samples, _) in enumerate(train_loader):\n",
    "        \n",
    "        # Data for training the discriminator\n",
    "        real_samples_labels = torch.ones((batch_size, 1))\n",
    "        #real_samples_labels = real_samples_labels\n",
    "        latent_space_samples = torch.randn((batch_size, 2))\n",
    "        generated_samples = generator(latent_space_samples)\n",
    "        generated_samples_labels = torch.zeros((batch_size, 1))\n",
    "        all_samples = torch.cat((real_samples, generated_samples))\n",
    "        all_samples_labels = torch.cat(\n",
    "            (real_samples_labels, generated_samples_labels)\n",
    "        )\n",
    "\n",
    "        # Training the discriminator\n",
    "        discriminator.zero_grad()\n",
    "        output_discriminator = discriminator(all_samples)\n",
    "        loss_discriminator = loss_function(\n",
    "            output_discriminator, all_samples_labels)\n",
    "        loss_discriminator.backward()\n",
    "        optimizer_discriminator.step()\n",
    "\n",
    "        # Data for training the generator\n",
    "        latent_space_samples = torch.randn((batch_size, 2))\n",
    "\n",
    "        # Training the generator\n",
    "        generator.zero_grad()\n",
    "        generated_samples = generator(latent_space_samples)\n",
    "        output_discriminator_generated = discriminator(generated_samples)\n",
    "        loss_generator = loss_function(\n",
    "            output_discriminator_generated, real_samples_labels\n",
    "        )\n",
    "        loss_generator.backward()\n",
    "        optimizer_generator.step()\n",
    "\n",
    "        # Show loss\n",
    "        if epoch % 10 == 0 and n == batch_size - 1:\n",
    "            print(f\"Epoch: {epoch} Loss D.: {loss_discriminator}\")\n",
    "            print(f\"Epoch: {epoch} Loss G.: {loss_generator}\")"
   ]
  },
  {
   "cell_type": "code",
   "execution_count": 14,
   "id": "b8b5a9eb-5477-4431-8cdc-5934f05a4943",
   "metadata": {},
   "outputs": [],
   "source": [
    "# check gen samples\n",
    "\n",
    "latent_space_samples = torch.randn(100, 2)\n",
    "generated_samples = generator(latent_space_samples)"
   ]
  },
  {
   "cell_type": "code",
   "execution_count": 15,
   "id": "bd6dd183-b5b1-44dd-9db6-f759f0964312",
   "metadata": {},
   "outputs": [
    {
     "data": {
      "text/plain": [
       "[<matplotlib.lines.Line2D at 0x1dbca9fc710>]"
      ]
     },
     "execution_count": 15,
     "metadata": {},
     "output_type": "execute_result"
    },
    {
     "data": {
      "image/png": "[encoded data removed]",
      "text/plain": [
       "<Figure size 640x480 with 1 Axes>"
      ]
     },
     "metadata": {},
     "output_type": "display_data"
    }
   ],
   "source": [
    "# check gen samples \n",
    "\n",
    "generated_samples = generated_samples.detach()\n",
    "plt.plot(generated_samples[:, 0], generated_samples[:, 1], \".\")\n",
    "\n"
   ]
  },
  {
   "cell_type": "code",
   "execution_count": 16,
   "id": "7b5f1223-3ee1-4132-9c00-e4fe7c716747",
   "metadata": {},
   "outputs": [
    {
     "data": {
      "image/png": "[encoded data removed]",
      "text/plain": [
       "<Figure size 800x600 with 1 Axes>"
      ]
     },
     "metadata": {},
     "output_type": "display_data"
    }
   ],
   "source": [
    "import matplotlib.pyplot as plt\n",
    "generated_samples = pd.DataFrame(generated_samples)\n",
    "train_data = pd.DataFrame(train_data)\n",
    "generated_samples = generated_samples.iloc[0:22]\n",
    "train_data_0 = train_data[0]\n",
    "generated_samples_0 = generated_samples[0]\n",
    "\n",
    "\n",
    "plt.figure(figsize=(8, 6))\n",
    "plt.scatter(train_data_0, generated_samples_0, c='blue', marker='o')\n",
    "\n",
    "plt.xlabel('Actual Values')\n",
    "plt.ylabel('Predicted Values')\n",
    "plt.title('Scatterplot of Predicted vs. Actual for Demographics')\n",
    "\n",
    "#plt.savefig('.png')\n",
    "plt.show()"
   ]
  },
  {
   "cell_type": "code",
   "execution_count": 17,
   "id": "a10fd6b3-5b05-484f-a060-58664978eb6c",
   "metadata": {},
   "outputs": [
    {
     "data": {
      "image/png": "[encoded data removed]",
      "text/plain": [
       "<Figure size 800x600 with 1 Axes>"
      ]
     },
     "metadata": {},
     "output_type": "display_data"
    }
   ],
   "source": [
    "import matplotlib.pyplot as plt\n",
    "generated_samples = pd.DataFrame(generated_samples)\n",
    "train_data = pd.DataFrame(train_data)\n",
    "generated_samples = generated_samples.iloc[0:22]\n",
    "train_data_1 = train_data[1]\n",
    "generated_samples_1 = generated_samples[1]\n",
    "\n",
    "\n",
    "plt.figure(figsize=(8, 6))\n",
    "plt.scatter(train_data_1, generated_samples_1, c='blue', marker='o')\n",
    "\n",
    "plt.xlabel('Actual Values')\n",
    "plt.ylabel('Predicted Values')\n",
    "plt.title('Scatterplot of Predicted vs. Actual for Relative Difference of Treatment v Baseline')\n",
    "\n",
    "#plt.savefig('.png')\n",
    "plt.show()"
   ]
  },
  {
   "cell_type": "code",
   "execution_count": 18,
   "id": "53db4664-f14c-43c8-aeba-2de02344deff",
   "metadata": {},
   "outputs": [],
   "source": [
    "#print(generated_samples)\n",
    " "
   ]
  },
  {
   "cell_type": "code",
   "execution_count": 19,
   "id": "b3d7d99f-247e-47ba-9feb-07d662904cd9",
   "metadata": {},
   "outputs": [
    {
     "name": "stdout",
     "output_type": "stream",
     "text": [
      "MAE: 4.6819408e+20\n",
      "MSE: inf\n",
      "RMSE: inf\n",
      "R-squared: nan\n",
      "Pearsons correlation: -0.003\n"
     ]
    },
    {
     "name": "stderr",
     "output_type": "stream",
     "text": [
      "C:\\Users\\nicol\\AppData\\Local\\Programs\\Python\\Python311\\Lib\\site-packages\\sklearn\\metrics\\_regression.py:446: RuntimeWarning: overflow encountered in square\n",
      "  output_errors = np.average((y_true - y_pred) ** 2, axis=0, weights=sample_weight)\n",
      "C:\\Users\\nicol\\AppData\\Local\\Programs\\Python\\Python311\\Lib\\site-packages\\sklearn\\metrics\\_regression.py:927: RuntimeWarning: overflow encountered in square\n",
      "  numerator = (weight * (y_true - y_pred) ** 2).sum(axis=0, dtype=np.float64)\n",
      "C:\\Users\\nicol\\AppData\\Local\\Programs\\Python\\Python311\\Lib\\site-packages\\sklearn\\metrics\\_regression.py:929: RuntimeWarning: overflow encountered in square\n",
      "  weight * (y_true - np.average(y_true, axis=0, weights=sample_weight)) ** 2\n",
      "C:\\Users\\nicol\\AppData\\Local\\Programs\\Python\\Python311\\Lib\\site-packages\\sklearn\\metrics\\_regression.py:633: RuntimeWarning: invalid value encountered in divide\n",
      "  numerator[valid_score] / denominator[valid_score]\n"
     ]
    }
   ],
   "source": [
    "from sklearn.metrics import mean_absolute_error, mean_squared_error, r2_score\n",
    "\n",
    "# for demo\n",
    "y_test = train_data_0\n",
    "predictions = generated_samples_0\n",
    "\n",
    "\n",
    "# Calculate evaluation metrics\n",
    "mae = mean_absolute_error(y_test, predictions)\n",
    "mse = mean_squared_error(y_test, predictions)\n",
    "rmse = np.sqrt(mse)\n",
    "r2 = r2_score(y_test, predictions)\n",
    "\n",
    "print(\"MAE:\", mae)\n",
    "print(\"MSE:\", mse)\n",
    "print(\"RMSE:\", rmse)\n",
    "print(\"R-squared:\", r2)\n",
    "\n",
    "\n",
    "#Pearson's correlation coefficient = covariance(X, Y) / (stdv(X) * stdv(Y))\n",
    "from scipy.stats import pearsonr\n",
    "\n",
    "corr, _ = pearsonr(y_test, predictions)\n",
    "print('Pearsons correlation: %.3f' % corr)"
   ]
  },
  {
   "cell_type": "code",
   "execution_count": 20,
   "id": "f64d7eba-7efb-4209-8d6e-acae13147b01",
   "metadata": {},
   "outputs": [
    {
     "name": "stdout",
     "output_type": "stream",
     "text": [
      "MAE: 0.3201516\n",
      "MSE: 0.16916955\n",
      "RMSE: 0.41130227\n",
      "R-squared: -0.23237634041818112\n",
      "Pearsons correlation: 0.064\n"
     ]
    }
   ],
   "source": [
    "# for rel \n",
    "y_test = train_data_1\n",
    "predictions = generated_samples_1\n",
    "\n",
    "\n",
    "# Calculate evaluation metrics\n",
    "mae = mean_absolute_error(y_test, predictions)\n",
    "mse = mean_squared_error(y_test, predictions)\n",
    "rmse = np.sqrt(mse)\n",
    "r2 = r2_score(y_test, predictions)\n",
    "\n",
    "print(\"MAE:\", mae)\n",
    "print(\"MSE:\", mse)\n",
    "print(\"RMSE:\", rmse)\n",
    "print(\"R-squared:\", r2)\n",
    "\n",
    "#Pearson's correlation coefficient = covariance(X, Y) / (stdv(X) * stdv(Y))\n",
    "from scipy.stats import pearsonr\n",
    "\n",
    "corr, _ = pearsonr(y_test, predictions)\n",
    "print('Pearsons correlation: %.3f' % corr)"
   ]
  }
 ],
 "metadata": {
  "kernelspec": {
   "display_name": "Python 3 (ipykernel)",
   "language": "python",
   "name": "python3"
  },
  "language_info": {
   "codemirror_mode": {
    "name": "ipython",
    "version": 3
   },
   "file_extension": ".py",
   "mimetype": "text/x-python",
   "name": "python",
   "nbconvert_exporter": "python",
   "pygments_lexer": "ipython3",
   "version": "3.11.4"
  }
 },
 "nbformat": 4,
 "nbformat_minor": 5
}
